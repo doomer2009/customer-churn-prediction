{
 "cells": [
  {
   "cell_type": "code",
   "execution_count": 17,
   "id": "b85abe4b",
   "metadata": {},
   "outputs": [
    {
     "name": "stdout",
     "output_type": "stream",
     "text": [
      "Размер датасета: (7043, 21)\n",
      "\n",
      "Первые 5 строк:\n"
     ]
    },
    {
     "data": {
      "text/html": [
       "<div>\n",
       "<style scoped>\n",
       "    .dataframe tbody tr th:only-of-type {\n",
       "        vertical-align: middle;\n",
       "    }\n",
       "\n",
       "    .dataframe tbody tr th {\n",
       "        vertical-align: top;\n",
       "    }\n",
       "\n",
       "    .dataframe thead th {\n",
       "        text-align: right;\n",
       "    }\n",
       "</style>\n",
       "<table border=\"1\" class=\"dataframe\">\n",
       "  <thead>\n",
       "    <tr style=\"text-align: right;\">\n",
       "      <th></th>\n",
       "      <th>customerID</th>\n",
       "      <th>gender</th>\n",
       "      <th>SeniorCitizen</th>\n",
       "      <th>Partner</th>\n",
       "      <th>Dependents</th>\n",
       "      <th>tenure</th>\n",
       "      <th>PhoneService</th>\n",
       "      <th>MultipleLines</th>\n",
       "      <th>InternetService</th>\n",
       "      <th>OnlineSecurity</th>\n",
       "      <th>...</th>\n",
       "      <th>DeviceProtection</th>\n",
       "      <th>TechSupport</th>\n",
       "      <th>StreamingTV</th>\n",
       "      <th>StreamingMovies</th>\n",
       "      <th>Contract</th>\n",
       "      <th>PaperlessBilling</th>\n",
       "      <th>PaymentMethod</th>\n",
       "      <th>MonthlyCharges</th>\n",
       "      <th>TotalCharges</th>\n",
       "      <th>Churn</th>\n",
       "    </tr>\n",
       "  </thead>\n",
       "  <tbody>\n",
       "    <tr>\n",
       "      <th>0</th>\n",
       "      <td>7590-VHVEG</td>\n",
       "      <td>Female</td>\n",
       "      <td>0</td>\n",
       "      <td>Yes</td>\n",
       "      <td>No</td>\n",
       "      <td>1</td>\n",
       "      <td>No</td>\n",
       "      <td>No phone service</td>\n",
       "      <td>DSL</td>\n",
       "      <td>No</td>\n",
       "      <td>...</td>\n",
       "      <td>No</td>\n",
       "      <td>No</td>\n",
       "      <td>No</td>\n",
       "      <td>No</td>\n",
       "      <td>Month-to-month</td>\n",
       "      <td>Yes</td>\n",
       "      <td>Electronic check</td>\n",
       "      <td>29.85</td>\n",
       "      <td>29.85</td>\n",
       "      <td>No</td>\n",
       "    </tr>\n",
       "    <tr>\n",
       "      <th>1</th>\n",
       "      <td>5575-GNVDE</td>\n",
       "      <td>Male</td>\n",
       "      <td>0</td>\n",
       "      <td>No</td>\n",
       "      <td>No</td>\n",
       "      <td>34</td>\n",
       "      <td>Yes</td>\n",
       "      <td>No</td>\n",
       "      <td>DSL</td>\n",
       "      <td>Yes</td>\n",
       "      <td>...</td>\n",
       "      <td>Yes</td>\n",
       "      <td>No</td>\n",
       "      <td>No</td>\n",
       "      <td>No</td>\n",
       "      <td>One year</td>\n",
       "      <td>No</td>\n",
       "      <td>Mailed check</td>\n",
       "      <td>56.95</td>\n",
       "      <td>1889.5</td>\n",
       "      <td>No</td>\n",
       "    </tr>\n",
       "    <tr>\n",
       "      <th>2</th>\n",
       "      <td>3668-QPYBK</td>\n",
       "      <td>Male</td>\n",
       "      <td>0</td>\n",
       "      <td>No</td>\n",
       "      <td>No</td>\n",
       "      <td>2</td>\n",
       "      <td>Yes</td>\n",
       "      <td>No</td>\n",
       "      <td>DSL</td>\n",
       "      <td>Yes</td>\n",
       "      <td>...</td>\n",
       "      <td>No</td>\n",
       "      <td>No</td>\n",
       "      <td>No</td>\n",
       "      <td>No</td>\n",
       "      <td>Month-to-month</td>\n",
       "      <td>Yes</td>\n",
       "      <td>Mailed check</td>\n",
       "      <td>53.85</td>\n",
       "      <td>108.15</td>\n",
       "      <td>Yes</td>\n",
       "    </tr>\n",
       "    <tr>\n",
       "      <th>3</th>\n",
       "      <td>7795-CFOCW</td>\n",
       "      <td>Male</td>\n",
       "      <td>0</td>\n",
       "      <td>No</td>\n",
       "      <td>No</td>\n",
       "      <td>45</td>\n",
       "      <td>No</td>\n",
       "      <td>No phone service</td>\n",
       "      <td>DSL</td>\n",
       "      <td>Yes</td>\n",
       "      <td>...</td>\n",
       "      <td>Yes</td>\n",
       "      <td>Yes</td>\n",
       "      <td>No</td>\n",
       "      <td>No</td>\n",
       "      <td>One year</td>\n",
       "      <td>No</td>\n",
       "      <td>Bank transfer (automatic)</td>\n",
       "      <td>42.30</td>\n",
       "      <td>1840.75</td>\n",
       "      <td>No</td>\n",
       "    </tr>\n",
       "    <tr>\n",
       "      <th>4</th>\n",
       "      <td>9237-HQITU</td>\n",
       "      <td>Female</td>\n",
       "      <td>0</td>\n",
       "      <td>No</td>\n",
       "      <td>No</td>\n",
       "      <td>2</td>\n",
       "      <td>Yes</td>\n",
       "      <td>No</td>\n",
       "      <td>Fiber optic</td>\n",
       "      <td>No</td>\n",
       "      <td>...</td>\n",
       "      <td>No</td>\n",
       "      <td>No</td>\n",
       "      <td>No</td>\n",
       "      <td>No</td>\n",
       "      <td>Month-to-month</td>\n",
       "      <td>Yes</td>\n",
       "      <td>Electronic check</td>\n",
       "      <td>70.70</td>\n",
       "      <td>151.65</td>\n",
       "      <td>Yes</td>\n",
       "    </tr>\n",
       "  </tbody>\n",
       "</table>\n",
       "<p>5 rows × 21 columns</p>\n",
       "</div>"
      ],
      "text/plain": [
       "   customerID  gender  SeniorCitizen Partner Dependents  tenure PhoneService  \\\n",
       "0  7590-VHVEG  Female              0     Yes         No       1           No   \n",
       "1  5575-GNVDE    Male              0      No         No      34          Yes   \n",
       "2  3668-QPYBK    Male              0      No         No       2          Yes   \n",
       "3  7795-CFOCW    Male              0      No         No      45           No   \n",
       "4  9237-HQITU  Female              0      No         No       2          Yes   \n",
       "\n",
       "      MultipleLines InternetService OnlineSecurity  ... DeviceProtection  \\\n",
       "0  No phone service             DSL             No  ...               No   \n",
       "1                No             DSL            Yes  ...              Yes   \n",
       "2                No             DSL            Yes  ...               No   \n",
       "3  No phone service             DSL            Yes  ...              Yes   \n",
       "4                No     Fiber optic             No  ...               No   \n",
       "\n",
       "  TechSupport StreamingTV StreamingMovies        Contract PaperlessBilling  \\\n",
       "0          No          No              No  Month-to-month              Yes   \n",
       "1          No          No              No        One year               No   \n",
       "2          No          No              No  Month-to-month              Yes   \n",
       "3         Yes          No              No        One year               No   \n",
       "4          No          No              No  Month-to-month              Yes   \n",
       "\n",
       "               PaymentMethod MonthlyCharges  TotalCharges Churn  \n",
       "0           Electronic check          29.85         29.85    No  \n",
       "1               Mailed check          56.95        1889.5    No  \n",
       "2               Mailed check          53.85        108.15   Yes  \n",
       "3  Bank transfer (automatic)          42.30       1840.75    No  \n",
       "4           Electronic check          70.70        151.65   Yes  \n",
       "\n",
       "[5 rows x 21 columns]"
      ]
     },
     "execution_count": 17,
     "metadata": {},
     "output_type": "execute_result"
    }
   ],
   "source": [
    "import pandas as pd\n",
    "import numpy as np\n",
    "import matplotlib.pyplot as plt\n",
    "import seaborn as sns\n",
    "\n",
    "df = pd.read_csv('../data/telco_churn.csv') # Убедись, что путь правильный\n",
    "\n",
    "print(\"Размер датасета:\", df.shape)\n",
    "print(\"\\nПервые 5 строк:\")\n",
    "df.head()"
   ]
  },
  {
   "cell_type": "markdown",
   "id": "daae3d5e",
   "metadata": {},
   "source": [
    "Смотрим общую информацию о данных\n",
    "Визуализируем распределение оттока"
   ]
  },
  {
   "cell_type": "code",
   "execution_count": 18,
   "id": "5d1ae299",
   "metadata": {},
   "outputs": [
    {
     "name": "stdout",
     "output_type": "stream",
     "text": [
      "Информация о данных:\n",
      "<class 'pandas.core.frame.DataFrame'>\n",
      "RangeIndex: 7043 entries, 0 to 7042\n",
      "Data columns (total 21 columns):\n",
      " #   Column            Non-Null Count  Dtype  \n",
      "---  ------            --------------  -----  \n",
      " 0   customerID        7043 non-null   object \n",
      " 1   gender            7043 non-null   object \n",
      " 2   SeniorCitizen     7043 non-null   int64  \n",
      " 3   Partner           7043 non-null   object \n",
      " 4   Dependents        7043 non-null   object \n",
      " 5   tenure            7043 non-null   int64  \n",
      " 6   PhoneService      7043 non-null   object \n",
      " 7   MultipleLines     7043 non-null   object \n",
      " 8   InternetService   7043 non-null   object \n",
      " 9   OnlineSecurity    7043 non-null   object \n",
      " 10  OnlineBackup      7043 non-null   object \n",
      " 11  DeviceProtection  7043 non-null   object \n",
      " 12  TechSupport       7043 non-null   object \n",
      " 13  StreamingTV       7043 non-null   object \n",
      " 14  StreamingMovies   7043 non-null   object \n",
      " 15  Contract          7043 non-null   object \n",
      " 16  PaperlessBilling  7043 non-null   object \n",
      " 17  PaymentMethod     7043 non-null   object \n",
      " 18  MonthlyCharges    7043 non-null   float64\n",
      " 19  TotalCharges      7043 non-null   object \n",
      " 20  Churn             7043 non-null   object \n",
      "dtypes: float64(1), int64(2), object(18)\n",
      "memory usage: 1.1+ MB\n",
      "\n",
      "Распределение оттока:\n",
      "Churn\n",
      "No     5174\n",
      "Yes    1869\n",
      "Name: count, dtype: int64\n"
     ]
    },
    {
     "data": {
      "image/png": "[encoded data removed]",
      "text/plain": [
       "<Figure size 640x480 with 1 Axes>"
      ]
     },
     "metadata": {},
     "output_type": "display_data"
    }
   ],
   "source": [
    "print(\"Информация о данных:\")\n",
    "df.info()\n",
    "\n",
    "print(\"\\nРаспределение оттока:\")\n",
    "print(df['Churn'].value_counts())\n",
    "\n",
    "plt.title('Соотношение лояльных и ушедших клиентов')\n",
    "df['Churn'].value_counts().plot(kind='bar', color=['skyblue', 'salmon'])\n",
    "plt.xticks(rotation=0)\n",
    "plt.show()"
   ]
  },
  {
   "cell_type": "markdown",
   "id": "8a4491ba",
   "metadata": {},
   "source": [
    "Преоразовываем TotalCharges в числа, ошибки в NaN"
   ]
  },
  {
   "cell_type": "code",
   "execution_count": null,
   "id": "6ce1ee9a",
   "metadata": {},
   "outputs": [
    {
     "name": "stdout",
     "output_type": "stream",
     "text": [
      "Пропуски в TotalCharges после преобразования:\n",
      "11\n"
     ]
    },
    {
     "data": {
      "text/html": [
       "<div>\n",
       "<style scoped>\n",
       "    .dataframe tbody tr th:only-of-type {\n",
       "        vertical-align: middle;\n",
       "    }\n",
       "\n",
       "    .dataframe tbody tr th {\n",
       "        vertical-align: top;\n",
       "    }\n",
       "\n",
       "    .dataframe thead th {\n",
       "        text-align: right;\n",
       "    }\n",
       "</style>\n",
       "<table border=\"1\" class=\"dataframe\">\n",
       "  <thead>\n",
       "    <tr style=\"text-align: right;\">\n",
       "      <th></th>\n",
       "      <th>customerID</th>\n",
       "      <th>gender</th>\n",
       "      <th>SeniorCitizen</th>\n",
       "      <th>Partner</th>\n",
       "      <th>Dependents</th>\n",
       "      <th>tenure</th>\n",
       "      <th>PhoneService</th>\n",
       "      <th>MultipleLines</th>\n",
       "      <th>InternetService</th>\n",
       "      <th>OnlineSecurity</th>\n",
       "      <th>...</th>\n",
       "      <th>DeviceProtection</th>\n",
       "      <th>TechSupport</th>\n",
       "      <th>StreamingTV</th>\n",
       "      <th>StreamingMovies</th>\n",
       "      <th>Contract</th>\n",
       "      <th>PaperlessBilling</th>\n",
       "      <th>PaymentMethod</th>\n",
       "      <th>MonthlyCharges</th>\n",
       "      <th>TotalCharges</th>\n",
       "      <th>Churn</th>\n",
       "    </tr>\n",
       "  </thead>\n",
       "  <tbody>\n",
       "    <tr>\n",
       "      <th>488</th>\n",
       "      <td>4472-LVYGI</td>\n",
       "      <td>Female</td>\n",
       "      <td>0</td>\n",
       "      <td>Yes</td>\n",
       "      <td>Yes</td>\n",
       "      <td>0</td>\n",
       "      <td>No</td>\n",
       "      <td>No phone service</td>\n",
       "      <td>DSL</td>\n",
       "      <td>Yes</td>\n",
       "      <td>...</td>\n",
       "      <td>Yes</td>\n",
       "      <td>Yes</td>\n",
       "      <td>Yes</td>\n",
       "      <td>No</td>\n",
       "      <td>Two year</td>\n",
       "      <td>Yes</td>\n",
       "      <td>Bank transfer (automatic)</td>\n",
       "      <td>52.55</td>\n",
       "      <td>NaN</td>\n",
       "      <td>No</td>\n",
       "    </tr>\n",
       "    <tr>\n",
       "      <th>753</th>\n",
       "      <td>3115-CZMZD</td>\n",
       "      <td>Male</td>\n",
       "      <td>0</td>\n",
       "      <td>No</td>\n",
       "      <td>Yes</td>\n",
       "      <td>0</td>\n",
       "      <td>Yes</td>\n",
       "      <td>No</td>\n",
       "      <td>No</td>\n",
       "      <td>No internet service</td>\n",
       "      <td>...</td>\n",
       "      <td>No internet service</td>\n",
       "      <td>No internet service</td>\n",
       "      <td>No internet service</td>\n",
       "      <td>No internet service</td>\n",
       "      <td>Two year</td>\n",
       "      <td>No</td>\n",
       "      <td>Mailed check</td>\n",
       "      <td>20.25</td>\n",
       "      <td>NaN</td>\n",
       "      <td>No</td>\n",
       "    </tr>\n",
       "    <tr>\n",
       "      <th>936</th>\n",
       "      <td>5709-LVOEQ</td>\n",
       "      <td>Female</td>\n",
       "      <td>0</td>\n",
       "      <td>Yes</td>\n",
       "      <td>Yes</td>\n",
       "      <td>0</td>\n",
       "      <td>Yes</td>\n",
       "      <td>No</td>\n",
       "      <td>DSL</td>\n",
       "      <td>Yes</td>\n",
       "      <td>...</td>\n",
       "      <td>Yes</td>\n",
       "      <td>No</td>\n",
       "      <td>Yes</td>\n",
       "      <td>Yes</td>\n",
       "      <td>Two year</td>\n",
       "      <td>No</td>\n",
       "      <td>Mailed check</td>\n",
       "      <td>80.85</td>\n",
       "      <td>NaN</td>\n",
       "      <td>No</td>\n",
       "    </tr>\n",
       "    <tr>\n",
       "      <th>1082</th>\n",
       "      <td>4367-NUYAO</td>\n",
       "      <td>Male</td>\n",
       "      <td>0</td>\n",
       "      <td>Yes</td>\n",
       "      <td>Yes</td>\n",
       "      <td>0</td>\n",
       "      <td>Yes</td>\n",
       "      <td>Yes</td>\n",
       "      <td>No</td>\n",
       "      <td>No internet service</td>\n",
       "      <td>...</td>\n",
       "      <td>No internet service</td>\n",
       "      <td>No internet service</td>\n",
       "      <td>No internet service</td>\n",
       "      <td>No internet service</td>\n",
       "      <td>Two year</td>\n",
       "      <td>No</td>\n",
       "      <td>Mailed check</td>\n",
       "      <td>25.75</td>\n",
       "      <td>NaN</td>\n",
       "      <td>No</td>\n",
       "    </tr>\n",
       "    <tr>\n",
       "      <th>1340</th>\n",
       "      <td>1371-DWPAZ</td>\n",
       "      <td>Female</td>\n",
       "      <td>0</td>\n",
       "      <td>Yes</td>\n",
       "      <td>Yes</td>\n",
       "      <td>0</td>\n",
       "      <td>No</td>\n",
       "      <td>No phone service</td>\n",
       "      <td>DSL</td>\n",
       "      <td>Yes</td>\n",
       "      <td>...</td>\n",
       "      <td>Yes</td>\n",
       "      <td>Yes</td>\n",
       "      <td>Yes</td>\n",
       "      <td>No</td>\n",
       "      <td>Two year</td>\n",
       "      <td>No</td>\n",
       "      <td>Credit card (automatic)</td>\n",
       "      <td>56.05</td>\n",
       "      <td>NaN</td>\n",
       "      <td>No</td>\n",
       "    </tr>\n",
       "  </tbody>\n",
       "</table>\n",
       "<p>5 rows × 21 columns</p>\n",
       "</div>"
      ],
      "text/plain": [
       "      customerID  gender  SeniorCitizen Partner Dependents  tenure  \\\n",
       "488   4472-LVYGI  Female              0     Yes        Yes       0   \n",
       "753   3115-CZMZD    Male              0      No        Yes       0   \n",
       "936   5709-LVOEQ  Female              0     Yes        Yes       0   \n",
       "1082  4367-NUYAO    Male              0     Yes        Yes       0   \n",
       "1340  1371-DWPAZ  Female              0     Yes        Yes       0   \n",
       "\n",
       "     PhoneService     MultipleLines InternetService       OnlineSecurity  ...  \\\n",
       "488            No  No phone service             DSL                  Yes  ...   \n",
       "753           Yes                No              No  No internet service  ...   \n",
       "936           Yes                No             DSL                  Yes  ...   \n",
       "1082          Yes               Yes              No  No internet service  ...   \n",
       "1340           No  No phone service             DSL                  Yes  ...   \n",
       "\n",
       "         DeviceProtection          TechSupport          StreamingTV  \\\n",
       "488                   Yes                  Yes                  Yes   \n",
       "753   No internet service  No internet service  No internet service   \n",
       "936                   Yes                   No                  Yes   \n",
       "1082  No internet service  No internet service  No internet service   \n",
       "1340                  Yes                  Yes                  Yes   \n",
       "\n",
       "          StreamingMovies  Contract PaperlessBilling  \\\n",
       "488                    No  Two year              Yes   \n",
       "753   No internet service  Two year               No   \n",
       "936                   Yes  Two year               No   \n",
       "1082  No internet service  Two year               No   \n",
       "1340                   No  Two year               No   \n",
       "\n",
       "                  PaymentMethod MonthlyCharges  TotalCharges  Churn  \n",
       "488   Bank transfer (automatic)          52.55           NaN     No  \n",
       "753                Mailed check          20.25           NaN     No  \n",
       "936                Mailed check          80.85           NaN     No  \n",
       "1082               Mailed check          25.75           NaN     No  \n",
       "1340    Credit card (automatic)          56.05           NaN     No  \n",
       "\n",
       "[5 rows x 21 columns]"
      ]
     },
     "execution_count": 19,
     "metadata": {},
     "output_type": "execute_result"
    }
   ],
   "source": [
    "df['TotalCharges'] = pd.to_numeric(df['TotalCharges'], errors='coerce')\n",
    "\n",
    "print(\"Пропуски в TotalCharges после преобразования:\")\n",
    "print(df['TotalCharges'].isnull().sum())\n",
    "\n",
    "df[df['TotalCharges'].isnull()].head()"
   ]
  },
  {
   "cell_type": "markdown",
   "id": "66ef2322",
   "metadata": {},
   "source": [
    "Строим красивую таблицу для анализа влияния типа контракта на отток"
   ]
  },
  {
   "cell_type": "code",
   "execution_count": 20,
   "id": "38bc8434",
   "metadata": {},
   "outputs": [
    {
     "data": {
      "text/html": [
       "<div>\n",
       "<style scoped>\n",
       "    .dataframe tbody tr th:only-of-type {\n",
       "        vertical-align: middle;\n",
       "    }\n",
       "\n",
       "    .dataframe tbody tr th {\n",
       "        vertical-align: top;\n",
       "    }\n",
       "\n",
       "    .dataframe thead th {\n",
       "        text-align: right;\n",
       "    }\n",
       "</style>\n",
       "<table border=\"1\" class=\"dataframe\">\n",
       "  <thead>\n",
       "    <tr style=\"text-align: right;\">\n",
       "      <th>Churn</th>\n",
       "      <th>No</th>\n",
       "      <th>Yes</th>\n",
       "    </tr>\n",
       "    <tr>\n",
       "      <th>Contract</th>\n",
       "      <th></th>\n",
       "      <th></th>\n",
       "    </tr>\n",
       "  </thead>\n",
       "  <tbody>\n",
       "    <tr>\n",
       "      <th>Month-to-month</th>\n",
       "      <td>57.29</td>\n",
       "      <td>42.71</td>\n",
       "    </tr>\n",
       "    <tr>\n",
       "      <th>One year</th>\n",
       "      <td>88.73</td>\n",
       "      <td>11.27</td>\n",
       "    </tr>\n",
       "    <tr>\n",
       "      <th>Two year</th>\n",
       "      <td>97.17</td>\n",
       "      <td>2.83</td>\n",
       "    </tr>\n",
       "  </tbody>\n",
       "</table>\n",
       "</div>"
      ],
      "text/plain": [
       "Churn              No    Yes\n",
       "Contract                    \n",
       "Month-to-month  57.29  42.71\n",
       "One year        88.73  11.27\n",
       "Two year        97.17   2.83"
      ]
     },
     "execution_count": 20,
     "metadata": {},
     "output_type": "execute_result"
    }
   ],
   "source": [
    "contract_churn = pd.crosstab(df['Contract'], df['Churn'], normalize='index') * 100\n",
    "contract_churn = contract_churn.round(2)\n",
    "contract_churn"
   ]
  },
  {
   "cell_type": "markdown",
   "id": "0e4cb032",
   "metadata": {},
   "source": [
    "Заменяем Nan в TotalCharges на 0 (логика - новый клиент, еще не платил)"
   ]
  },
  {
   "cell_type": "code",
   "execution_count": 21,
   "id": "31555875",
   "metadata": {},
   "outputs": [
    {
     "name": "stdout",
     "output_type": "stream",
     "text": [
      "Количество пропусков в TotalCharges до обработки:\n",
      "11\n",
      "Количество пропусков в TotalCharges после обработки:\n",
      "0\n",
      "\n",
      "Тип данных TotalCharges:\n",
      "float64\n"
     ]
    },
    {
     "name": "stderr",
     "output_type": "stream",
     "text": [
      "C:\\Users\\maksi\\AppData\\Local\\Temp\\ipykernel_4044\\3225237250.py:4: FutureWarning: A value is trying to be set on a copy of a DataFrame or Series through chained assignment using an inplace method.\n",
      "The behavior will change in pandas 3.0. This inplace method will never work because the intermediate object on which we are setting values always behaves as a copy.\n",
      "\n",
      "For example, when doing 'df[col].method(value, inplace=True)', try using 'df.method({col: value}, inplace=True)' or df[col] = df[col].method(value) instead, to perform the operation inplace on the original object.\n",
      "\n",
      "\n",
      "  df['TotalCharges'].fillna(0, inplace=True)\n"
     ]
    }
   ],
   "source": [
    "print(\"Количество пропусков в TotalCharges до обработки:\")\n",
    "print(df['TotalCharges'].isnull().sum())\n",
    "\n",
    "df['TotalCharges'].fillna(0, inplace=True)\n",
    "\n",
    "print(\"Количество пропусков в TotalCharges после обработки:\")\n",
    "print(df['TotalCharges'].isnull().sum())\n",
    "\n",
    "print(\"\\nТип данных TotalCharges:\")\n",
    "print(df['TotalCharges'].dtype)"
   ]
  },
  {
   "cell_type": "markdown",
   "id": "bd3807dd",
   "metadata": {},
   "source": [
    "Список всех категориальных колонок"
   ]
  },
  {
   "cell_type": "code",
   "execution_count": 22,
   "id": "5ded2361",
   "metadata": {},
   "outputs": [
    {
     "name": "stdout",
     "output_type": "stream",
     "text": [
      "Категориальные колонки:\n",
      "['customerID', 'gender', 'Partner', 'Dependents', 'PhoneService', 'MultipleLines', 'InternetService', 'OnlineSecurity', 'OnlineBackup', 'DeviceProtection', 'TechSupport', 'StreamingTV', 'StreamingMovies', 'Contract', 'PaperlessBilling', 'PaymentMethod', 'Churn']\n"
     ]
    }
   ],
   "source": [
    "categorical_columns = df.select_dtypes(include=['object']).columns.tolist()\n",
    "print(\"Категориальные колонки:\")\n",
    "print(categorical_columns)"
   ]
  },
  {
   "cell_type": "markdown",
   "id": "10ec5273",
   "metadata": {},
   "source": [
    "Чистим ненужные для модели колонки"
   ]
  },
  {
   "cell_type": "code",
   "execution_count": 23,
   "id": "d82713d4",
   "metadata": {},
   "outputs": [
    {
     "name": "stdout",
     "output_type": "stream",
     "text": [
      "\n",
      "Категориальные колонки для кодирования:\n",
      "['gender', 'Partner', 'Dependents', 'PhoneService', 'MultipleLines', 'InternetService', 'OnlineSecurity', 'OnlineBackup', 'DeviceProtection', 'TechSupport', 'StreamingTV', 'StreamingMovies', 'Contract', 'PaperlessBilling', 'PaymentMethod']\n"
     ]
    }
   ],
   "source": [
    "cols_to_remove = ['customerID', 'Churn']\n",
    "categorical_columns = [col for col in categorical_columns if col not in cols_to_remove]\n",
    "\n",
    "print(\"\\nКатегориальные колонки для кодирования:\")\n",
    "print(categorical_columns)"
   ]
  },
  {
   "cell_type": "markdown",
   "id": "d4b9b82a",
   "metadata": {},
   "source": [
    "Считаем уникальные значения для каждой категориальной колонки"
   ]
  },
  {
   "cell_type": "code",
   "execution_count": 24,
   "id": "8a36c38e",
   "metadata": {},
   "outputs": [
    {
     "name": "stdout",
     "output_type": "stream",
     "text": [
      "\n",
      "gender: ['Female' 'Male'] (Кол-во: 2)\n",
      "\n",
      "Partner: ['Yes' 'No'] (Кол-во: 2)\n",
      "\n",
      "Dependents: ['No' 'Yes'] (Кол-во: 2)\n",
      "\n",
      "PhoneService: ['No' 'Yes'] (Кол-во: 2)\n",
      "\n",
      "MultipleLines: ['No phone service' 'No' 'Yes'] (Кол-во: 3)\n",
      "\n",
      "InternetService: ['DSL' 'Fiber optic' 'No'] (Кол-во: 3)\n",
      "\n",
      "OnlineSecurity: ['No' 'Yes' 'No internet service'] (Кол-во: 3)\n",
      "\n",
      "OnlineBackup: ['Yes' 'No' 'No internet service'] (Кол-во: 3)\n",
      "\n",
      "DeviceProtection: ['No' 'Yes' 'No internet service'] (Кол-во: 3)\n",
      "\n",
      "TechSupport: ['No' 'Yes' 'No internet service'] (Кол-во: 3)\n",
      "\n",
      "StreamingTV: ['No' 'Yes' 'No internet service'] (Кол-во: 3)\n",
      "\n",
      "StreamingMovies: ['No' 'Yes' 'No internet service'] (Кол-во: 3)\n",
      "\n",
      "Contract: ['Month-to-month' 'One year' 'Two year'] (Кол-во: 3)\n",
      "\n",
      "PaperlessBilling: ['Yes' 'No'] (Кол-во: 2)\n",
      "\n",
      "PaymentMethod: ['Electronic check' 'Mailed check' 'Bank transfer (automatic)'\n",
      " 'Credit card (automatic)'] (Кол-во: 4)\n"
     ]
    }
   ],
   "source": [
    "for column in categorical_columns:\n",
    "    unique_values = df[column].unique()\n",
    "    print(f\"\\n{column}: {unique_values} (Кол-во: {len(unique_values)})\")"
   ]
  },
  {
   "cell_type": "markdown",
   "id": "f965492e",
   "metadata": {},
   "source": [
    "Кодируем категориальные признаки:\n",
    "Для двух уникальных значений используем Label Encoding \n",
    "Для >2 уникальных значений используем One-Hot Encoding OHE"
   ]
  },
  {
   "cell_type": "code",
   "execution_count": 25,
   "id": "56263560",
   "metadata": {},
   "outputs": [
    {
     "name": "stdout",
     "output_type": "stream",
     "text": [
      "Бинарные колонки для Label Encoding:\n",
      "['gender', 'Partner', 'Dependents', 'PhoneService', 'PaperlessBilling']\n",
      "Закодирована колонка gender: {'Female': np.int64(0), 'Male': np.int64(1)}\n",
      "Закодирована колонка Partner: {'No': np.int64(0), 'Yes': np.int64(1)}\n",
      "Закодирована колонка Dependents: {'No': np.int64(0), 'Yes': np.int64(1)}\n",
      "Закодирована колонка PhoneService: {'No': np.int64(0), 'Yes': np.int64(1)}\n",
      "Закодирована колонка PaperlessBilling: {'No': np.int64(0), 'Yes': np.int64(1)}\n",
      "\n",
      "Колонки для One-Hot Encoding:\n",
      "['MultipleLines', 'InternetService', 'OnlineSecurity', 'OnlineBackup', 'DeviceProtection', 'TechSupport', 'StreamingTV', 'StreamingMovies', 'Contract', 'PaymentMethod']\n",
      "\n",
      "Размер датафрейма после кодирования: (7043, 42)\n",
      "\n",
      "Первые 3 строки после кодирования:\n"
     ]
    },
    {
     "data": {
      "text/html": [
       "<div>\n",
       "<style scoped>\n",
       "    .dataframe tbody tr th:only-of-type {\n",
       "        vertical-align: middle;\n",
       "    }\n",
       "\n",
       "    .dataframe tbody tr th {\n",
       "        vertical-align: top;\n",
       "    }\n",
       "\n",
       "    .dataframe thead th {\n",
       "        text-align: right;\n",
       "    }\n",
       "</style>\n",
       "<table border=\"1\" class=\"dataframe\">\n",
       "  <thead>\n",
       "    <tr style=\"text-align: right;\">\n",
       "      <th></th>\n",
       "      <th>customerID</th>\n",
       "      <th>gender</th>\n",
       "      <th>SeniorCitizen</th>\n",
       "      <th>Partner</th>\n",
       "      <th>Dependents</th>\n",
       "      <th>tenure</th>\n",
       "      <th>PhoneService</th>\n",
       "      <th>PaperlessBilling</th>\n",
       "      <th>MonthlyCharges</th>\n",
       "      <th>TotalCharges</th>\n",
       "      <th>...</th>\n",
       "      <th>StreamingMovies_No</th>\n",
       "      <th>StreamingMovies_No internet service</th>\n",
       "      <th>StreamingMovies_Yes</th>\n",
       "      <th>Contract_Month-to-month</th>\n",
       "      <th>Contract_One year</th>\n",
       "      <th>Contract_Two year</th>\n",
       "      <th>PaymentMethod_Bank transfer (automatic)</th>\n",
       "      <th>PaymentMethod_Credit card (automatic)</th>\n",
       "      <th>PaymentMethod_Electronic check</th>\n",
       "      <th>PaymentMethod_Mailed check</th>\n",
       "    </tr>\n",
       "  </thead>\n",
       "  <tbody>\n",
       "    <tr>\n",
       "      <th>0</th>\n",
       "      <td>7590-VHVEG</td>\n",
       "      <td>0</td>\n",
       "      <td>0</td>\n",
       "      <td>1</td>\n",
       "      <td>0</td>\n",
       "      <td>1</td>\n",
       "      <td>0</td>\n",
       "      <td>1</td>\n",
       "      <td>29.85</td>\n",
       "      <td>29.85</td>\n",
       "      <td>...</td>\n",
       "      <td>1</td>\n",
       "      <td>0</td>\n",
       "      <td>0</td>\n",
       "      <td>1</td>\n",
       "      <td>0</td>\n",
       "      <td>0</td>\n",
       "      <td>0</td>\n",
       "      <td>0</td>\n",
       "      <td>1</td>\n",
       "      <td>0</td>\n",
       "    </tr>\n",
       "    <tr>\n",
       "      <th>1</th>\n",
       "      <td>5575-GNVDE</td>\n",
       "      <td>1</td>\n",
       "      <td>0</td>\n",
       "      <td>0</td>\n",
       "      <td>0</td>\n",
       "      <td>34</td>\n",
       "      <td>1</td>\n",
       "      <td>0</td>\n",
       "      <td>56.95</td>\n",
       "      <td>1889.50</td>\n",
       "      <td>...</td>\n",
       "      <td>1</td>\n",
       "      <td>0</td>\n",
       "      <td>0</td>\n",
       "      <td>0</td>\n",
       "      <td>1</td>\n",
       "      <td>0</td>\n",
       "      <td>0</td>\n",
       "      <td>0</td>\n",
       "      <td>0</td>\n",
       "      <td>1</td>\n",
       "    </tr>\n",
       "    <tr>\n",
       "      <th>2</th>\n",
       "      <td>3668-QPYBK</td>\n",
       "      <td>1</td>\n",
       "      <td>0</td>\n",
       "      <td>0</td>\n",
       "      <td>0</td>\n",
       "      <td>2</td>\n",
       "      <td>1</td>\n",
       "      <td>1</td>\n",
       "      <td>53.85</td>\n",
       "      <td>108.15</td>\n",
       "      <td>...</td>\n",
       "      <td>1</td>\n",
       "      <td>0</td>\n",
       "      <td>0</td>\n",
       "      <td>1</td>\n",
       "      <td>0</td>\n",
       "      <td>0</td>\n",
       "      <td>0</td>\n",
       "      <td>0</td>\n",
       "      <td>0</td>\n",
       "      <td>1</td>\n",
       "    </tr>\n",
       "  </tbody>\n",
       "</table>\n",
       "<p>3 rows × 42 columns</p>\n",
       "</div>"
      ],
      "text/plain": [
       "   customerID  gender  SeniorCitizen  Partner  Dependents  tenure  \\\n",
       "0  7590-VHVEG       0              0        1           0       1   \n",
       "1  5575-GNVDE       1              0        0           0      34   \n",
       "2  3668-QPYBK       1              0        0           0       2   \n",
       "\n",
       "   PhoneService  PaperlessBilling  MonthlyCharges  TotalCharges  ...  \\\n",
       "0             0                 1           29.85         29.85  ...   \n",
       "1             1                 0           56.95       1889.50  ...   \n",
       "2             1                 1           53.85        108.15  ...   \n",
       "\n",
       "   StreamingMovies_No  StreamingMovies_No internet service  \\\n",
       "0                   1                                    0   \n",
       "1                   1                                    0   \n",
       "2                   1                                    0   \n",
       "\n",
       "   StreamingMovies_Yes  Contract_Month-to-month  Contract_One year  \\\n",
       "0                    0                        1                  0   \n",
       "1                    0                        0                  1   \n",
       "2                    0                        1                  0   \n",
       "\n",
       "   Contract_Two year  PaymentMethod_Bank transfer (automatic)  \\\n",
       "0                  0                                        0   \n",
       "1                  0                                        0   \n",
       "2                  0                                        0   \n",
       "\n",
       "   PaymentMethod_Credit card (automatic)  PaymentMethod_Electronic check  \\\n",
       "0                                      0                               1   \n",
       "1                                      0                               0   \n",
       "2                                      0                               0   \n",
       "\n",
       "   PaymentMethod_Mailed check  \n",
       "0                           0  \n",
       "1                           1  \n",
       "2                           1  \n",
       "\n",
       "[3 rows x 42 columns]"
      ]
     },
     "execution_count": 25,
     "metadata": {},
     "output_type": "execute_result"
    }
   ],
   "source": [
    "from sklearn.preprocessing import LabelEncoder\n",
    "\n",
    "df_encoded = df.copy()\n",
    "\n",
    "binary_columns = [col for col in categorical_columns if df[col].nunique() == 2]\n",
    "print(\"Бинарные колонки для Label Encoding:\")\n",
    "print(binary_columns)\n",
    "\n",
    "le = LabelEncoder()\n",
    "for col in binary_columns:\n",
    "    df_encoded[col] = le.fit_transform(df[col])\n",
    "    print(f\"Закодирована колонка {col}: {dict(zip(le.classes_, le.transform(le.classes_)))}\")\n",
    "\n",
    "ohe_columns = [col for col in categorical_columns if df[col].nunique() > 2]\n",
    "print(\"\\nКолонки для One-Hot Encoding:\")\n",
    "print(ohe_columns)\n",
    "\n",
    "df_encoded = pd.get_dummies(df_encoded, columns=ohe_columns, drop_first=False, dtype=int)\n",
    "\n",
    "df_encoded['Churn'] = le.fit_transform(df['Churn'])  # No -> 0, Yes -> 1\n",
    "\n",
    "print(f\"\\nРазмер датафрейма после кодирования: {df_encoded.shape}\")\n",
    "print(\"\\nПервые 3 строки после кодирования:\")\n",
    "df_encoded.head(3)"
   ]
  },
  {
   "cell_type": "markdown",
   "id": "6e53a90b",
   "metadata": {},
   "source": [
    "Выделяем целевую переменную, выделяем признаки."
   ]
  },
  {
   "cell_type": "code",
   "execution_count": 26,
   "id": "6938008f",
   "metadata": {},
   "outputs": [
    {
     "name": "stdout",
     "output_type": "stream",
     "text": [
      "Размерность матрицы признаков (X): (7043, 41)\n",
      "Размерность целевого вектора (y): (7043,)\n"
     ]
    }
   ],
   "source": [
    "y = df_encoded['Churn']\n",
    "\n",
    "X = df_encoded.drop('Churn', axis=1)  \n",
    "\n",
    "print(f\"Размерность матрицы признаков (X): {X.shape}\")\n",
    "print(f\"Размерность целевого вектора (y): {y.shape}\")"
   ]
  },
  {
   "cell_type": "markdown",
   "id": "4125baa7",
   "metadata": {},
   "source": [
    "Импортируем функцию train_test_split для разделения данных\n",
    "Разделяем данные 1 к 5 на тестовую и тренировочную выборку"
   ]
  },
  {
   "cell_type": "code",
   "execution_count": 27,
   "id": "d9e014a5",
   "metadata": {},
   "outputs": [
    {
     "name": "stdout",
     "output_type": "stream",
     "text": [
      "Обучающая выборка (X_train): (5634, 41)\n",
      "Тестовая выборка (X_test): (1409, 41)\n",
      "Обучающие ответы (y_train): (5634,)\n",
      "Тестовые ответы (y_test): (1409,)\n",
      "\n",
      "Распределение классов в y_train:\n",
      "Churn\n",
      "0    0.734647\n",
      "1    0.265353\n",
      "Name: proportion, dtype: float64\n",
      "\n",
      "Распределение классов в y_test:\n",
      "Churn\n",
      "0    0.734564\n",
      "1    0.265436\n",
      "Name: proportion, dtype: float64\n"
     ]
    }
   ],
   "source": [
    "from sklearn.model_selection import train_test_split\n",
    "\n",
    "X_train, X_test, y_train, y_test = train_test_split(X, y, test_size=0.2, random_state=42, stratify=y)\n",
    "\n",
    "print(f\"Обучающая выборка (X_train): {X_train.shape}\")\n",
    "print(f\"Тестовая выборка (X_test): {X_test.shape}\")\n",
    "print(f\"Обучающие ответы (y_train): {y_train.shape}\")\n",
    "print(f\"Тестовые ответы (y_test): {y_test.shape}\")\n",
    "\n",
    "print(\"\\nРаспределение классов в y_train:\")\n",
    "print(y_train.value_counts(normalize=True))\n",
    "print(\"\\nРаспределение классов в y_test:\")\n",
    "print(y_test.value_counts(normalize=True))"
   ]
  },
  {
   "cell_type": "markdown",
   "id": "75eab660",
   "metadata": {},
   "source": [
    "Очищаем выборки от ненужной колонки customerID"
   ]
  },
  {
   "cell_type": "code",
   "execution_count": 28,
   "id": "6990001e",
   "metadata": {},
   "outputs": [
    {
     "name": "stdout",
     "output_type": "stream",
     "text": [
      "Размерность X_train после удаления customerID: (5634, 40)\n",
      "Размерность X_test после удаления customerID: (1409, 40)\n"
     ]
    }
   ],
   "source": [
    "X_train = X_train.drop('customerID', axis=1)\n",
    "\n",
    "X_test = X_test.drop('customerID', axis=1)\n",
    "\n",
    "print(f\"Размерность X_train после удаления customerID: {X_train.shape}\")\n",
    "print(f\"Размерность X_test после удаления customerID: {X_test.shape}\")"
   ]
  },
  {
   "cell_type": "markdown",
   "id": "5d985acb",
   "metadata": {},
   "source": [
    "Импортируем и создаем объект StandartScaler.\n",
    "Обучаем scaler на тренировочных данных и преобразуем тестовые данные\n",
    "Тем самым проводим нормализацию данных, чтобы все признаки были в одном масштабе"
   ]
  },
  {
   "cell_type": "code",
   "execution_count": 29,
   "id": "10d75eef",
   "metadata": {},
   "outputs": [
    {
     "name": "stdout",
     "output_type": "stream",
     "text": [
      "\n",
      "Средние значения признаков (должны быть близки к 0):\n",
      "gender           1.135052e-16\n",
      "SeniorCitizen    7.440898e-17\n",
      "Partner         -7.031018e-17\n",
      "Dependents       2.900689e-17\n",
      "tenure          -1.008935e-17\n",
      "dtype: float64\n",
      "\n",
      "Стандартные отклонения (должны быть близки к 1):\n",
      "gender           1.000089\n",
      "SeniorCitizen    1.000089\n",
      "Partner          1.000089\n",
      "Dependents       1.000089\n",
      "tenure           1.000089\n",
      "dtype: float64\n"
     ]
    }
   ],
   "source": [
    "from sklearn.preprocessing import StandardScaler\n",
    "scaler = StandardScaler()\n",
    "\n",
    "X_train_scaled = scaler.fit_transform(X_train)\n",
    "\n",
    "X_test_scaled = scaler.transform(X_test)\n",
    "\n",
    "X_train = pd.DataFrame(X_train_scaled, columns=X_train.columns)\n",
    "X_test = pd.DataFrame(X_test_scaled, columns=X_test.columns)\n",
    "\n",
    "print(\"\\nСредние значения признаков (должны быть близки к 0):\")\n",
    "print(X_train.mean().head())\n",
    "\n",
    "print(\"\\nСтандартные отклонения (должны быть близки к 1):\")\n",
    "print(X_train.std().head())"
   ]
  },
  {
   "cell_type": "markdown",
   "id": "a242df32",
   "metadata": {},
   "source": [
    "Импортируем модель логистической регрессии, создаем ее эксземпляр. Обучаем модель на тренировочных данных, делаем предсказание на тестовых. Оцениваем точность с помощью accuracy_score и смотрим другие метрики с помощью classification_report"
   ]
  },
  {
   "cell_type": "code",
   "execution_count": 30,
   "id": "21451da0",
   "metadata": {},
   "outputs": [
    {
     "name": "stdout",
     "output_type": "stream",
     "text": [
      "Точность (Accuracy) модели на тестовых данных: 0.8070\n",
      "\n",
      "Полный отчет по метрикам классификации:\n",
      "              precision    recall  f1-score   support\n",
      "\n",
      "           0       0.85      0.89      0.87      1035\n",
      "           1       0.66      0.57      0.61       374\n",
      "\n",
      "    accuracy                           0.81      1409\n",
      "   macro avg       0.75      0.73      0.74      1409\n",
      "weighted avg       0.80      0.81      0.80      1409\n",
      "\n"
     ]
    }
   ],
   "source": [
    "from sklearn.linear_model import LogisticRegression\n",
    "\n",
    "model = LogisticRegression(random_state=42)\n",
    "\n",
    "model.fit(X_train, y_train)\n",
    "\n",
    "y_pred = model.predict(X_test)\n",
    "\n",
    "from sklearn.metrics import accuracy_score\n",
    "\n",
    "accuracy = accuracy_score(y_test, y_pred)\n",
    "print(f\"Точность (Accuracy) модели на тестовых данных: {accuracy:.4f}\")\n",
    "\n",
    "from sklearn.metrics import classification_report\n",
    "\n",
    "print(\"\\nПолный отчет по метрикам классификации:\")\n",
    "print(classification_report(y_test, y_pred))"
   ]
  },
  {
   "cell_type": "markdown",
   "id": "f9593b70",
   "metadata": {},
   "source": [
    "Создаем модель логистической регрессии со взвешиванием классов. class_weight='balanced' автоматически присвоит бОльший вес классу 1 (ушедшие)"
   ]
  },
  {
   "cell_type": "code",
   "execution_count": 31,
   "id": "f558d387",
   "metadata": {},
   "outputs": [
    {
     "name": "stdout",
     "output_type": "stream",
     "text": [
      "Отчет для модели со взвешиванием классов:\n",
      "              precision    recall  f1-score   support\n",
      "\n",
      "           0       0.90      0.72      0.80      1035\n",
      "           1       0.51      0.79      0.62       374\n",
      "\n",
      "    accuracy                           0.74      1409\n",
      "   macro avg       0.71      0.75      0.71      1409\n",
      "weighted avg       0.80      0.74      0.75      1409\n",
      "\n"
     ]
    }
   ],
   "source": [
    "model_balanced = LogisticRegression(random_state=42, class_weight='balanced')\n",
    "\n",
    "model_balanced.fit(X_train, y_train)\n",
    "\n",
    "y_pred_balanced = model_balanced.predict(X_test)\n",
    "\n",
    "print(\"Отчет для модели со взвешиванием классов:\")\n",
    "print(classification_report(y_test, y_pred_balanced))"
   ]
  },
  {
   "cell_type": "markdown",
   "id": "fddb3ef4",
   "metadata": {},
   "source": [
    "Проверяем и оцениваем по f1-score другие модели на данной задаче."
   ]
  },
  {
   "cell_type": "code",
   "execution_count": 32,
   "id": "d4b86db8",
   "metadata": {},
   "outputs": [
    {
     "name": "stdout",
     "output_type": "stream",
     "text": [
      "Logistic Regression (Balanced): F1-score = 0.6322 (+/- 0.0518)\n",
      "Random Forest: F1-score = 0.5326 (+/- 0.0523)\n",
      "XGBoost: F1-score = 0.5924 (+/- 0.0267)\n"
     ]
    },
    {
     "data": {
      "image/png": "[encoded data removed]",
      "text/plain": [
       "<Figure size 1000x600 with 1 Axes>"
      ]
     },
     "metadata": {},
     "output_type": "display_data"
    }
   ],
   "source": [
    "from sklearn.ensemble import RandomForestClassifier\n",
    "from xgboost import XGBClassifier\n",
    "from sklearn.model_selection import cross_val_score\n",
    "import numpy as np\n",
    "\n",
    "models = {\n",
    "    \"Logistic Regression (Balanced)\": LogisticRegression(random_state=42, class_weight='balanced'),\n",
    "    \"Random Forest\": RandomForestClassifier(random_state=42, class_weight='balanced'),\n",
    "    \"XGBoost\": XGBClassifier(random_state=42, scale_pos_weight=(len(y_train)/sum(y_train))) \n",
    "}\n",
    "\n",
    "results = {}\n",
    "for name, model in models.items():\n",
    "    cv_scores = cross_val_score(model, X_train, y_train, cv=5, scoring='f1') \n",
    "    results[name] = cv_scores\n",
    "    print(f\"{name}: F1-score = {cv_scores.mean():.4f} (+/- {cv_scores.std()*2:.4f})\")\n",
    "\n",
    "results_df = pd.DataFrame(results)\n",
    "results_df.boxplot(figsize=(10, 6))\n",
    "plt.title(\"Сравнение F1-score моделей (5-фолдовая кросс-валидация)\")\n",
    "plt.ylabel(\"F1-score\")\n",
    "plt.xticks(rotation=45)\n",
    "plt.show()"
   ]
  },
  {
   "cell_type": "markdown",
   "id": "aaffb898",
   "metadata": {},
   "source": [
    "Модель логистической регрессии оказалась лучшей. Далее подберем гиперпараметры с помощью GridSearchCV для большей точности этой модели."
   ]
  },
  {
   "cell_type": "code",
   "execution_count": 33,
   "id": "df95bea1",
   "metadata": {},
   "outputs": [
    {
     "name": "stdout",
     "output_type": "stream",
     "text": [
      "Лучшие параметры: {'C': 1, 'solver': 'liblinear'}\n",
      "Лучший F1-score на кросс-валидации: 0.6323958264603435\n"
     ]
    }
   ],
   "source": [
    "from sklearn.model_selection import GridSearchCV\n",
    "\n",
    "param_grid = {\n",
    "    'C': [0.001, 0.01, 0.1, 1, 10, 100, 1000],\n",
    "    'solver': ['liblinear', 'lbfgs']\n",
    "}\n",
    "\n",
    "grid_search = GridSearchCV(\n",
    "    LogisticRegression(random_state=42, class_weight='balanced'),\n",
    "    param_grid,\n",
    "    cv=5,  \n",
    "    scoring='f1', \n",
    "    n_jobs=-1 \n",
    ")\n",
    "\n",
    "grid_search.fit(X_train, y_train)\n",
    "\n",
    "print(\"Лучшие параметры:\", grid_search.best_params_)\n",
    "print(\"Лучший F1-score на кросс-валидации:\", grid_search.best_score_)\n",
    "\n",
    "best_lr_model = grid_search.best_estimator_"
   ]
  },
  {
   "cell_type": "markdown",
   "id": "b8bc6ba4",
   "metadata": {},
   "source": [
    "Используем лучшую модель, найденную GridSearchCV и делаем финальные предикты на тестовых данных. Смотрим полный отчет классификации и визуализируе матрицу ошибок."
   ]
  },
  {
   "cell_type": "code",
   "execution_count": 34,
   "id": "f572f112",
   "metadata": {},
   "outputs": [
    {
     "name": "stdout",
     "output_type": "stream",
     "text": [
      "ФИНАЛЬНЫЕ РЕЗУЛЬТАТЫ НА ТЕСТОВЫХ ДАННЫХ:\n",
      "              precision    recall  f1-score   support\n",
      "\n",
      "           0       0.90      0.72      0.80      1035\n",
      "           1       0.51      0.79      0.62       374\n",
      "\n",
      "    accuracy                           0.74      1409\n",
      "   macro avg       0.70      0.75      0.71      1409\n",
      "weighted avg       0.80      0.74      0.75      1409\n",
      "\n"
     ]
    },
    {
     "data": {
      "image/png": "[encoded data removed]",
      "text/plain": [
       "<Figure size 800x600 with 2 Axes>"
      ]
     },
     "metadata": {},
     "output_type": "display_data"
    }
   ],
   "source": [
    "best_model = grid_search.best_estimator_\n",
    "\n",
    "y_test_pred = best_model.predict(X_test)\n",
    "\n",
    "from sklearn.metrics import classification_report, confusion_matrix\n",
    "import seaborn as sns\n",
    "\n",
    "print(\"ФИНАЛЬНЫЕ РЕЗУЛЬТАТЫ НА ТЕСТОВЫХ ДАННЫХ:\")\n",
    "print(classification_report(y_test, y_test_pred))\n",
    "\n",
    "cm = confusion_matrix(y_test, y_test_pred)\n",
    "plt.figure(figsize=(8, 6))\n",
    "sns.heatmap(cm, annot=True, fmt='d', cmap='Blues', \n",
    "            xticklabels=['Остается (0)', 'Уходит (1)'], \n",
    "            yticklabels=['Остается (0)', 'Уходит (1)'])\n",
    "plt.title('Матрица ошибок (Confusion Matrix)')\n",
    "plt.ylabel('Истинный класс')\n",
    "plt.xlabel('Предсказанный класс')\n",
    "plt.show()"
   ]
  },
  {
   "cell_type": "markdown",
   "id": "d71c8e24",
   "metadata": {},
   "source": [
    "Оцениваем важность признаков и сортируем."
   ]
  },
  {
   "cell_type": "code",
   "execution_count": 35,
   "id": "df5b3258",
   "metadata": {},
   "outputs": [
    {
     "data": {
      "image/png": "[encoded data removed]",
      "text/plain": [
       "<Figure size 1200x800 with 1 Axes>"
      ]
     },
     "metadata": {},
     "output_type": "display_data"
    },
    {
     "name": "stdout",
     "output_type": "stream",
     "text": [
      "Топ-10 самых важных признаков:\n",
      "                        feature  importance\n",
      "4                        tenure   -1.150734\n",
      "7                MonthlyCharges   -1.105969\n",
      "8                  TotalCharges    0.485746\n",
      "13  InternetService_Fiber optic    0.458640\n",
      "12          InternetService_DSL   -0.363429\n",
      "35            Contract_Two year   -0.341219\n",
      "33      Contract_Month-to-month    0.321732\n",
      "32          StreamingMovies_Yes    0.205099\n",
      "29              StreamingTV_Yes    0.198880\n",
      "6              PaperlessBilling    0.164420\n"
     ]
    }
   ],
   "source": [
    "feature_importance = pd.DataFrame({\n",
    "    'feature': X_train.columns,\n",
    "    'importance': best_model.coef_[0]  \n",
    "})\n",
    "\n",
    "feature_importance['abs_importance'] = abs(feature_importance['importance'])\n",
    "feature_importance = feature_importance.sort_values('abs_importance', ascending=False)\n",
    "\n",
    "plt.figure(figsize=(12, 8))\n",
    "sns.barplot(x='importance', y='feature', data=feature_importance.head(15))\n",
    "plt.title('Топ-15 самых важных признаков для прогноза оттока')\n",
    "plt.xlabel('Важность (Коэффициент модели)')\n",
    "plt.ylabel('Признак')\n",
    "plt.show()\n",
    "\n",
    "print(\"Топ-10 самых важных признаков:\")\n",
    "print(feature_importance[['feature', 'importance']].head(10))"
   ]
  },
  {
   "cell_type": "code",
   "execution_count": 36,
   "id": "99ddc92d",
   "metadata": {},
   "outputs": [
    {
     "name": "stdout",
     "output_type": "stream",
     "text": [
      "✅ Все артефакты сохранены!\n"
     ]
    }
   ],
   "source": [
    "import joblib\n",
    "import json\n",
    "\n",
    "# 1. Сохраняем обученную модель\n",
    "joblib.dump(best_model, 'best_churn_model.pkl')\n",
    "\n",
    "# 2. Сохраняем scaler (важно для новых данных)\n",
    "joblib.dump(scaler, 'scaler.pkl')\n",
    "\n",
    "# 3. Сохраняем список фичей (для воспроизводимости)\n",
    "with open('feature_list.json', 'w') as f:\n",
    "    json.dump(list(X_train.columns), f)\n",
    "\n",
    "# 4. Сохраняем топ-10 фичей для визуализации\n",
    "top_features = feature_importance[['feature', 'importance']].head(10).to_dict()\n",
    "with open('top_features.json', 'w') as f:\n",
    "    json.dump(top_features, f)\n",
    "\n",
    "print(\"✅ Все артефакты сохранены!\")"
   ]
  }
 ],
 "metadata": {
  "kernelspec": {
   "display_name": "Python 3",
   "language": "python",
   "name": "python3"
  },
  "language_info": {
   "codemirror_mode": {
    "name": "ipython",
    "version": 3
   },
   "file_extension": ".py",
   "mimetype": "text/x-python",
   "name": "python",
   "nbconvert_exporter": "python",
   "pygments_lexer": "ipython3",
   "version": "3.13.7"
  }
 },
 "nbformat": 4,
 "nbformat_minor": 5
}
